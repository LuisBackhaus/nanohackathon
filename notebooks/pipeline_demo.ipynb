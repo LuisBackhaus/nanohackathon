{
 "cells": [
  {
   "cell_type": "code",
   "execution_count": null,
   "id": "7305c976",
   "metadata": {},
   "outputs": [],
   "source": [
    "!pip install -U google-genai\n",
    "!pip install Pillow"
   ]
  },
  {
   "cell_type": "code",
   "execution_count": null,
   "id": "b8d11c72",
   "metadata": {},
   "outputs": [],
   "source": [
    "import os\n",
    "from google import genai\n",
    "from PIL import Image\n",
    "from io import BytesIO\n",
    "from IPython.display import display\n",
    "from dotenv import load_dotenv\n",
    "load_dotenv()\n",
    "\n",
    "# --- IMPORTANT ---\n",
    "# Paste your API key here. For better security, we recommend using environment variables.\n",
    "# For example: API_KEY=os.environ.get(\"GEMINI_API_KEY\")\n",
    "API_KEY = os.getenv(\"API_KEY\")\n",
    "# -----------------\n",
    "\n",
    "# Configure the client with your API key\n",
    "client = genai.Client(api_key=API_KEY)\n",
    "\n",
    "NANO_BANANA = \"gemini-2.5-flash-image-preview\""
   ]
  },
  {
   "cell_type": "code",
   "execution_count": null,
   "id": "3f720143",
   "metadata": {},
   "outputs": [],
   "source": [
    "from IPython.display import display, Markdown, Image\n",
    "import pathlib\n",
    "\n",
    "# Loop over all parts and display them either as text or images\n",
    "def display_response(response):\n",
    "  for part in response.parts:\n",
    "    if part.text:\n",
    "      display(Markdown(part.text))\n",
    "    elif image:= part.as_image():\n",
    "      display(image)\n",
    "      # image.show() if not in a notebook\n",
    "\n",
    "# Save the image\n",
    "# If there are multiple ones, only the last one will be saved\n",
    "def save_image(response, path):\n",
    "  for part in response.parts:\n",
    "    if image:= part.as_image():\n",
    "      image.save(path)"
   ]
  },
  {
   "cell_type": "markdown",
   "id": "c7303ead",
   "metadata": {},
   "source": [
    "## Image Generation"
   ]
  },
  {
   "cell_type": "code",
   "execution_count": null,
   "id": "f44dc5b6",
   "metadata": {},
   "outputs": [],
   "source": [
    "# The text prompt for image generation\n",
    "prompt = \"Create a photorealistic image of an orange cat with green eyes, sitting on a couch.\"\n",
    "\n",
    "print(\"Generating image...\")\n",
    "\n",
    "# Call the API to generate the image\n",
    "response = client.models.generate_content(\n",
    "    model=NANO_BANANA,\n",
    "    contents=prompt,\n",
    ")\n",
    "\n",
    "image_parts = [\n",
    "    part.inline_data.data\n",
    "    for part in response.candidates[0].content.parts\n",
    "    if part.inline_data\n",
    "]\n",
    " \n",
    "if image_parts:\n",
    "    image = Image.open(BytesIO(image_parts[0]))\n",
    "    image.save('cat.png')\n",
    "    display(image)"
   ]
  },
  {
   "cell_type": "markdown",
   "id": "2cb400bd",
   "metadata": {},
   "source": [
    "## Image Editing"
   ]
  },
  {
   "cell_type": "code",
   "execution_count": null,
   "id": "3d950349",
   "metadata": {},
   "outputs": [],
   "source": [
    "text_prompt = \"Create a side view picture of that cat, in a tropical forest, eating a nano-banana, under the stars\" # @param {type:\"string\"}\n",
    "\n",
    "response = client.models.generate_content(\n",
    "    model=NANO_BANANA,\n",
    "    contents=[\n",
    "        text_prompt,\n",
    "        Image.open('cat.png')\n",
    "    ]\n",
    ")\n"
   ]
  },
  {
   "cell_type": "markdown",
   "id": "caa13ec1",
   "metadata": {},
   "source": [
    "## Generate multiple images at once"
   ]
  },
  {
   "cell_type": "code",
   "execution_count": null,
   "id": "a5d5250a",
   "metadata": {},
   "outputs": [],
   "source": [
    "prompt = \"Create a beautifully entertaining 8 part story with 8 images with two blue characters and their adventures in the 1960s music scene. The story is thrilling throughout with emotional highs and lows and ending on a great twist and high note. Do not include any words or text on the images but tell the story purely through the imagery itself. \" # @param [\"Show me how to bake macarons with images\",\"Create a beautifully entertaining 8 part story with 8 images with two blue characters and their adventures in the 1960s music scene. The story is thrilling throughout with emotional highs and lows and ending on a great twist and high note. Do not include any words or text on the images but tell the story purely through the imagery itself. \"] {\"allow-input\":true}\n",
    "\n",
    "response = client.models.generate_content(\n",
    "    model=NANO_BANANA,\n",
    "    contents=prompt,\n",
    ")\n",
    "\n",
    "display_response(response)\n"
   ]
  },
  {
   "cell_type": "markdown",
   "id": "ffa38cdf",
   "metadata": {},
   "source": [
    "## Structured Output"
   ]
  },
  {
   "cell_type": "code",
   "execution_count": null,
   "id": "e5d7f684",
   "metadata": {},
   "outputs": [],
   "source": [
    "from pydantic import BaseModel\n",
    "\n",
    "class Recipe(BaseModel):\n",
    "    recipe_name: str\n",
    "    ingredients: list[str]\n",
    "\n",
    "client = genai.Client()\n",
    "response = client.models.generate_content(\n",
    "    model=\"gemini-2.5-flash\",\n",
    "    contents=\"List a few popular cookie recipes, and include the amounts of ingredients.\",\n",
    "    config={\n",
    "        \"response_mime_type\": \"application/json\",\n",
    "        \"response_schema\": list[Recipe],\n",
    "    },\n",
    ")\n",
    "# Use the response as a JSON string.\n",
    "print(response.text)\n",
    "\n",
    "# Use instantiated objects.\n",
    "my_recipes: list[Recipe] = response.parsed"
   ]
  }
 ],
 "metadata": {
  "kernelspec": {
   "display_name": "venv",
   "language": "python",
   "name": "python3"
  },
  "language_info": {
   "codemirror_mode": {
    "name": "ipython",
    "version": 3
   },
   "file_extension": ".py",
   "mimetype": "text/x-python",
   "name": "python",
   "nbconvert_exporter": "python",
   "pygments_lexer": "ipython3",
   "version": "3.11.11"
  }
 },
 "nbformat": 4,
 "nbformat_minor": 5
}
